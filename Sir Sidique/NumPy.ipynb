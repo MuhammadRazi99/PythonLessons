{
 "cells": [
  {
   "cell_type": "markdown",
   "id": "c4d6bc89",
   "metadata": {},
   "source": [
    "# 1. DataType and Attributes"
   ]
  },
  {
   "cell_type": "code",
   "execution_count": 1,
   "id": "cb5788da",
   "metadata": {},
   "outputs": [],
   "source": [
    "#import numpy\n",
    "import numpy as np"
   ]
  },
  {
   "cell_type": "code",
   "execution_count": 2,
   "id": "1c7d6d9c",
   "metadata": {},
   "outputs": [
    {
     "data": {
      "text/plain": [
       "array([1, 2, 3, 4, 5, 6, 7, 8])"
      ]
     },
     "execution_count": 2,
     "metadata": {},
     "output_type": "execute_result"
    }
   ],
   "source": [
    "#numpy's main data type is ndarray mean n dimensional array\n",
    "# we pass a list of numbers\n",
    "\n",
    "array1 = np.array([1,2,3,4,5,6,7,8])\n",
    "array1"
   ]
  },
  {
   "cell_type": "code",
   "execution_count": 3,
   "id": "8e7a2198",
   "metadata": {},
   "outputs": [
    {
     "data": {
      "text/plain": [
       "numpy.ndarray"
      ]
     },
     "execution_count": 3,
     "metadata": {},
     "output_type": "execute_result"
    }
   ],
   "source": [
    "type(array1)"
   ]
  },
  {
   "cell_type": "code",
   "execution_count": 4,
   "id": "f5a9d1ed",
   "metadata": {},
   "outputs": [
    {
     "data": {
      "text/plain": [
       "array([[1, 2, 3],\n",
       "       [4, 5, 6]])"
      ]
     },
     "execution_count": 4,
     "metadata": {},
     "output_type": "execute_result"
    }
   ],
   "source": [
    "array2  = np.array([[1,2,3],\n",
    "                    [4,5,6]])\n",
    "array2"
   ]
  },
  {
   "cell_type": "code",
   "execution_count": 5,
   "id": "341fb3a0",
   "metadata": {},
   "outputs": [
    {
     "name": "stdout",
     "output_type": "stream",
     "text": [
      "(8,)\n",
      "(2, 3)\n"
     ]
    }
   ],
   "source": [
    "#attributes assoc. with ndarrray\n",
    "# 1.\n",
    "print(array1.shape)\n",
    "print(array2.shape)"
   ]
  },
  {
   "cell_type": "code",
   "execution_count": 6,
   "id": "9910939d",
   "metadata": {},
   "outputs": [
    {
     "data": {
      "text/plain": [
       "(1, 2)"
      ]
     },
     "execution_count": 6,
     "metadata": {},
     "output_type": "execute_result"
    }
   ],
   "source": [
    "# 2. number of dimensions ndim\n",
    "array1.ndim, array2.ndim"
   ]
  },
  {
   "cell_type": "code",
   "execution_count": 7,
   "id": "7a74bfe7",
   "metadata": {},
   "outputs": [
    {
     "data": {
      "text/plain": [
       "(dtype('int32'), dtype('int32'))"
      ]
     },
     "execution_count": 7,
     "metadata": {},
     "output_type": "execute_result"
    }
   ],
   "source": [
    "# 3. dtype\n",
    "array1.dtype, array2.dtype"
   ]
  },
  {
   "cell_type": "code",
   "execution_count": 8,
   "id": "f2a610f9",
   "metadata": {},
   "outputs": [
    {
     "data": {
      "text/plain": [
       "(8, 6)"
      ]
     },
     "execution_count": 8,
     "metadata": {},
     "output_type": "execute_result"
    }
   ],
   "source": [
    "# 4. size = total number of elements\n",
    "array1.size,array2.size"
   ]
  },
  {
   "cell_type": "code",
   "execution_count": 9,
   "id": "569544ea",
   "metadata": {},
   "outputs": [
    {
     "data": {
      "text/plain": [
       "(numpy.ndarray, numpy.ndarray)"
      ]
     },
     "execution_count": 9,
     "metadata": {},
     "output_type": "execute_result"
    }
   ],
   "source": [
    "# 5. type()\n",
    "type(array1), type(array2)"
   ]
  },
  {
   "cell_type": "code",
   "execution_count": 10,
   "id": "dd4f079c",
   "metadata": {},
   "outputs": [
    {
     "data": {
      "text/html": [
       "<div>\n",
       "<style scoped>\n",
       "    .dataframe tbody tr th:only-of-type {\n",
       "        vertical-align: middle;\n",
       "    }\n",
       "\n",
       "    .dataframe tbody tr th {\n",
       "        vertical-align: top;\n",
       "    }\n",
       "\n",
       "    .dataframe thead th {\n",
       "        text-align: right;\n",
       "    }\n",
       "</style>\n",
       "<table border=\"1\" class=\"dataframe\">\n",
       "  <thead>\n",
       "    <tr style=\"text-align: right;\">\n",
       "      <th></th>\n",
       "      <th>0</th>\n",
       "      <th>1</th>\n",
       "      <th>2</th>\n",
       "    </tr>\n",
       "  </thead>\n",
       "  <tbody>\n",
       "    <tr>\n",
       "      <th>0</th>\n",
       "      <td>1</td>\n",
       "      <td>2</td>\n",
       "      <td>3</td>\n",
       "    </tr>\n",
       "    <tr>\n",
       "      <th>1</th>\n",
       "      <td>4</td>\n",
       "      <td>5</td>\n",
       "      <td>6</td>\n",
       "    </tr>\n",
       "  </tbody>\n",
       "</table>\n",
       "</div>"
      ],
      "text/plain": [
       "   0  1  2\n",
       "0  1  2  3\n",
       "1  4  5  6"
      ]
     },
     "execution_count": 10,
     "metadata": {},
     "output_type": "execute_result"
    }
   ],
   "source": [
    "#create dataframe from numpy array\n",
    "import pandas as pd\n",
    "df = pd.DataFrame(array2)\n",
    "df"
   ]
  },
  {
   "cell_type": "markdown",
   "id": "27b2c68a",
   "metadata": {},
   "source": [
    "# 2. Creating NumPy Arrays"
   ]
  },
  {
   "cell_type": "code",
   "execution_count": 11,
   "id": "b9100f03",
   "metadata": {},
   "outputs": [
    {
     "data": {
      "text/plain": [
       "array([[1, 1, 1],\n",
       "       [1, 1, 1]])"
      ]
     },
     "execution_count": 11,
     "metadata": {},
     "output_type": "execute_result"
    }
   ],
   "source": [
    "#array filled with ones\n",
    "ones = np.ones((2,3),int)\n",
    "ones"
   ]
  },
  {
   "cell_type": "code",
   "execution_count": 12,
   "id": "caf0855c",
   "metadata": {},
   "outputs": [
    {
     "data": {
      "text/plain": [
       "dtype('int32')"
      ]
     },
     "execution_count": 12,
     "metadata": {},
     "output_type": "execute_result"
    }
   ],
   "source": [
    "ones.dtype"
   ]
  },
  {
   "cell_type": "code",
   "execution_count": 13,
   "id": "de53fbba",
   "metadata": {},
   "outputs": [
    {
     "data": {
      "text/plain": [
       "numpy.ndarray"
      ]
     },
     "execution_count": 13,
     "metadata": {},
     "output_type": "execute_result"
    }
   ],
   "source": [
    "type(ones)"
   ]
  },
  {
   "cell_type": "code",
   "execution_count": 14,
   "id": "d313622e",
   "metadata": {},
   "outputs": [
    {
     "data": {
      "text/plain": [
       "array([[0., 0., 0., 0.],\n",
       "       [0., 0., 0., 0.],\n",
       "       [0., 0., 0., 0.],\n",
       "       [0., 0., 0., 0.]])"
      ]
     },
     "execution_count": 14,
     "metadata": {},
     "output_type": "execute_result"
    }
   ],
   "source": [
    "np.zeros((4,4))"
   ]
  },
  {
   "cell_type": "code",
   "execution_count": 15,
   "id": "31aa1a37",
   "metadata": {},
   "outputs": [
    {
     "data": {
      "text/plain": [
       "array([0, 2, 4, 6, 8])"
      ]
     },
     "execution_count": 15,
     "metadata": {},
     "output_type": "execute_result"
    }
   ],
   "source": [
    "range_array = np.arange(0,10,2)\n",
    "range_array"
   ]
  },
  {
   "cell_type": "code",
   "execution_count": 16,
   "id": "d62fe14a",
   "metadata": {},
   "outputs": [
    {
     "data": {
      "text/plain": [
       "array([[10,  8, 12, 12],\n",
       "       [11, 11, 11,  9],\n",
       "       [ 7, 10, 12,  7]])"
      ]
     },
     "execution_count": 16,
     "metadata": {},
     "output_type": "execute_result"
    }
   ],
   "source": [
    "random_array = np.random.randint(6,13,size =(3,4))\n",
    "random_array"
   ]
  },
  {
   "cell_type": "code",
   "execution_count": 17,
   "id": "55d7b4c7",
   "metadata": {},
   "outputs": [
    {
     "data": {
      "text/plain": [
       "(3, 4)"
      ]
     },
     "execution_count": 17,
     "metadata": {},
     "output_type": "execute_result"
    }
   ],
   "source": [
    "random_array.shape"
   ]
  },
  {
   "cell_type": "code",
   "execution_count": 18,
   "id": "f9cd904f",
   "metadata": {},
   "outputs": [
    {
     "data": {
      "text/plain": [
       "array([[0.1475756 , 0.19614195],\n",
       "       [0.17865362, 0.43443401],\n",
       "       [0.99360511, 0.56132888]])"
      ]
     },
     "execution_count": 18,
     "metadata": {},
     "output_type": "execute_result"
    }
   ],
   "source": [
    "random_array = np.random.rand(3,2)\n",
    "random_array"
   ]
  },
  {
   "cell_type": "code",
   "execution_count": 19,
   "id": "eb8981da",
   "metadata": {},
   "outputs": [
    {
     "data": {
      "text/plain": [
       "array([[0.40266787, 0.59435868],\n",
       "       [0.04311635, 0.86269077],\n",
       "       [0.48480416, 0.98277479]])"
      ]
     },
     "execution_count": 19,
     "metadata": {},
     "output_type": "execute_result"
    }
   ],
   "source": [
    "random_array = np.random.random((3,2))\n",
    "random_array"
   ]
  },
  {
   "cell_type": "code",
   "execution_count": 20,
   "id": "9e6342ff",
   "metadata": {},
   "outputs": [
    {
     "data": {
      "text/plain": [
       "array([[35, 10, 26],\n",
       "       [29,  6, 14],\n",
       "       [31, 42, 20],\n",
       "       [36, 24, 41]])"
      ]
     },
     "execution_count": 20,
     "metadata": {},
     "output_type": "execute_result"
    }
   ],
   "source": [
    "# pseudo random numbers\n",
    "# np.random.seed(seed = 0)\n",
    "r_array  = np.random.randint(5,43,(4,3))\n",
    "r_array"
   ]
  },
  {
   "cell_type": "code",
   "execution_count": 21,
   "id": "bf81b4d8",
   "metadata": {},
   "outputs": [
    {
     "data": {
      "text/plain": [
       "(4, 3)"
      ]
     },
     "execution_count": 21,
     "metadata": {},
     "output_type": "execute_result"
    }
   ],
   "source": [
    "r_array.shape"
   ]
  },
  {
   "cell_type": "code",
   "execution_count": 22,
   "id": "9b7a5a47",
   "metadata": {},
   "outputs": [
    {
     "data": {
      "text/plain": [
       "12"
      ]
     },
     "execution_count": 22,
     "metadata": {},
     "output_type": "execute_result"
    }
   ],
   "source": [
    "r_array.size"
   ]
  },
  {
   "cell_type": "markdown",
   "id": "2c77b2d6",
   "metadata": {},
   "source": [
    "# 3. Manipulating and Comparing Arrays"
   ]
  },
  {
   "cell_type": "code",
   "execution_count": 23,
   "id": "2988491d",
   "metadata": {},
   "outputs": [],
   "source": [
    "a = np.array([1,5,3,7,4,3])\n",
    "a1 = np.array([2,4,5,7,2,4])"
   ]
  },
  {
   "cell_type": "code",
   "execution_count": 24,
   "id": "1c7b6fec",
   "metadata": {},
   "outputs": [
    {
     "data": {
      "text/plain": [
       "(array([ 3,  9,  8, 14,  6,  7]),\n",
       " array([ 2, 20, 15, 49,  8, 12]),\n",
       " array([-1,  1, -2,  0,  2, -1]),\n",
       " array([0.5 , 1.25, 0.6 , 1.  , 2.  , 0.75]),\n",
       " array([0, 1, 0, 1, 2, 0], dtype=int32))"
      ]
     },
     "execution_count": 24,
     "metadata": {},
     "output_type": "execute_result"
    }
   ],
   "source": [
    "a+a1,a*a1, a-a1,a/a1,a//a1"
   ]
  },
  {
   "cell_type": "code",
   "execution_count": 25,
   "id": "88c80752",
   "metadata": {},
   "outputs": [
    {
     "data": {
      "text/plain": [
       "array([ 4, 16, 25, 49,  4, 16], dtype=int32)"
      ]
     },
     "execution_count": 25,
     "metadata": {},
     "output_type": "execute_result"
    }
   ],
   "source": [
    "np.square(a1)"
   ]
  },
  {
   "cell_type": "code",
   "execution_count": 26,
   "id": "c26c1e36",
   "metadata": {},
   "outputs": [
    {
     "data": {
      "text/plain": [
       "array([1, 1, 3, 0, 0, 3], dtype=int32)"
      ]
     },
     "execution_count": 26,
     "metadata": {},
     "output_type": "execute_result"
    }
   ],
   "source": [
    "a%a1"
   ]
  },
  {
   "cell_type": "code",
   "execution_count": 27,
   "id": "c0c34f72",
   "metadata": {},
   "outputs": [
    {
     "data": {
      "text/plain": [
       "(array([   2.71828183,  148.4131591 ,   20.08553692, 1096.63315843,\n",
       "          54.59815003,   20.08553692]),\n",
       " array([   7.3890561 ,   54.59815003,  148.4131591 , 1096.63315843,\n",
       "           7.3890561 ,   54.59815003]))"
      ]
     },
     "execution_count": 27,
     "metadata": {},
     "output_type": "execute_result"
    }
   ],
   "source": [
    "np.exp(a),np.exp(a1)"
   ]
  },
  {
   "cell_type": "code",
   "execution_count": 28,
   "id": "0d82dcb9",
   "metadata": {},
   "outputs": [
    {
     "data": {
      "text/plain": [
       "(array([0.        , 1.60943791, 1.09861229, 1.94591015, 1.38629436,\n",
       "        1.09861229]),\n",
       " array([0.69314718, 1.38629436, 1.60943791, 1.94591015, 0.69314718,\n",
       "        1.38629436]))"
      ]
     },
     "execution_count": 28,
     "metadata": {},
     "output_type": "execute_result"
    }
   ],
   "source": [
    "np.log(a),np.log(a1)"
   ]
  },
  {
   "cell_type": "markdown",
   "id": "8f556330",
   "metadata": {},
   "source": [
    "# #Aggregation"
   ]
  },
  {
   "cell_type": "code",
   "execution_count": 29,
   "id": "01c10dfb",
   "metadata": {},
   "outputs": [
    {
     "data": {
      "text/plain": [
       "list"
      ]
     },
     "execution_count": 29,
     "metadata": {},
     "output_type": "execute_result"
    }
   ],
   "source": [
    "list = [1,2,3]\n",
    "type(list)"
   ]
  },
  {
   "cell_type": "code",
   "execution_count": 30,
   "id": "b12c59fe",
   "metadata": {},
   "outputs": [
    {
     "data": {
      "text/plain": [
       "6"
      ]
     },
     "execution_count": 30,
     "metadata": {},
     "output_type": "execute_result"
    }
   ],
   "source": [
    "sum(list)"
   ]
  },
  {
   "cell_type": "code",
   "execution_count": 31,
   "id": "45ac753f",
   "metadata": {},
   "outputs": [
    {
     "data": {
      "text/plain": [
       "array([2, 4, 5, 7, 2, 4])"
      ]
     },
     "execution_count": 31,
     "metadata": {},
     "output_type": "execute_result"
    }
   ],
   "source": [
    "a1"
   ]
  },
  {
   "cell_type": "code",
   "execution_count": 32,
   "id": "f02852b5",
   "metadata": {},
   "outputs": [
    {
     "data": {
      "text/plain": [
       "24"
      ]
     },
     "execution_count": 32,
     "metadata": {},
     "output_type": "execute_result"
    }
   ],
   "source": [
    "sum(a1)"
   ]
  },
  {
   "cell_type": "code",
   "execution_count": 33,
   "id": "9184d0da",
   "metadata": {},
   "outputs": [
    {
     "data": {
      "text/plain": [
       "24"
      ]
     },
     "execution_count": 33,
     "metadata": {},
     "output_type": "execute_result"
    }
   ],
   "source": [
    "np.sum(a1)"
   ]
  },
  {
   "cell_type": "code",
   "execution_count": 34,
   "id": "7980635a",
   "metadata": {},
   "outputs": [
    {
     "data": {
      "text/plain": [
       "array([0.68610275, 0.80118675, 0.70317125, ..., 0.51073818, 0.75659877,\n",
       "       0.0024727 ])"
      ]
     },
     "execution_count": 34,
     "metadata": {},
     "output_type": "execute_result"
    }
   ],
   "source": [
    "massive =np.random.random(100000)\n",
    "massive"
   ]
  },
  {
   "cell_type": "code",
   "execution_count": 35,
   "id": "edaa1e14",
   "metadata": {},
   "outputs": [
    {
     "data": {
      "text/plain": [
       "array([0.68610275, 0.80118675, 0.70317125, 0.17729255, 0.42851949,\n",
       "       0.83365758, 0.5514995 , 0.53590925, 0.34114549, 0.23049668])"
      ]
     },
     "execution_count": 35,
     "metadata": {},
     "output_type": "execute_result"
    }
   ],
   "source": [
    "massive[:10]"
   ]
  },
  {
   "cell_type": "code",
   "execution_count": 36,
   "id": "484442fd",
   "metadata": {},
   "outputs": [
    {
     "name": "stdout",
     "output_type": "stream",
     "text": [
      "16.4 ms ± 553 µs per loop (mean ± std. dev. of 7 runs, 100 loops each)\n",
      "105 µs ± 5.04 µs per loop (mean ± std. dev. of 7 runs, 10000 loops each)\n"
     ]
    }
   ],
   "source": [
    "%timeit sum(massive) #python sum\n",
    "%timeit np.sum(massive) #NumPy sum"
   ]
  },
  {
   "cell_type": "code",
   "execution_count": 37,
   "id": "efc759df",
   "metadata": {},
   "outputs": [
    {
     "data": {
      "text/plain": [
       "array([[1. , 2. , 3.3],\n",
       "       [4. , 5. , 6.5]])"
      ]
     },
     "execution_count": 37,
     "metadata": {},
     "output_type": "execute_result"
    }
   ],
   "source": [
    "a2 = np.array([[1. ,2. , 3.3],\n",
    "               [4., 5. , 6.5]])\n",
    "a2"
   ]
  },
  {
   "cell_type": "code",
   "execution_count": 38,
   "id": "c928f5c3",
   "metadata": {},
   "outputs": [
    {
     "data": {
      "text/plain": [
       "3.6333333333333333"
      ]
     },
     "execution_count": 38,
     "metadata": {},
     "output_type": "execute_result"
    }
   ],
   "source": [
    "np.mean(a2)"
   ]
  },
  {
   "cell_type": "code",
   "execution_count": 39,
   "id": "387fbb5f",
   "metadata": {},
   "outputs": [
    {
     "data": {
      "text/plain": [
       "1.0"
      ]
     },
     "execution_count": 39,
     "metadata": {},
     "output_type": "execute_result"
    }
   ],
   "source": [
    "np.min(a2)"
   ]
  },
  {
   "cell_type": "code",
   "execution_count": 40,
   "id": "f976c9ae",
   "metadata": {},
   "outputs": [
    {
     "data": {
      "text/plain": [
       "1.8226964152656422"
      ]
     },
     "execution_count": 40,
     "metadata": {},
     "output_type": "execute_result"
    }
   ],
   "source": [
    "np.std(a2)"
   ]
  },
  {
   "cell_type": "code",
   "execution_count": 41,
   "id": "f15eb5eb",
   "metadata": {},
   "outputs": [
    {
     "data": {
      "text/plain": [
       "3.3222222222222224"
      ]
     },
     "execution_count": 41,
     "metadata": {},
     "output_type": "execute_result"
    }
   ],
   "source": [
    "np.var(a2)"
   ]
  },
  {
   "cell_type": "markdown",
   "id": "a344e150",
   "metadata": {},
   "source": [
    "### Standard Deviation and Variance"
   ]
  },
  {
   "cell_type": "code",
   "execution_count": 42,
   "id": "d6e71029",
   "metadata": {},
   "outputs": [],
   "source": [
    "high_var = np.array([1,100,200,300,4000,5000])\n",
    "low_var= np.array([2,4,6,8,10])"
   ]
  },
  {
   "cell_type": "code",
   "execution_count": 43,
   "id": "ec10cbc3",
   "metadata": {},
   "outputs": [
    {
     "data": {
      "text/plain": [
       "(4296133.472222221, 8.0)"
      ]
     },
     "execution_count": 43,
     "metadata": {},
     "output_type": "execute_result"
    }
   ],
   "source": [
    "np.var(high_var),np.var(low_var)"
   ]
  },
  {
   "cell_type": "code",
   "execution_count": 44,
   "id": "1effe14c",
   "metadata": {},
   "outputs": [
    {
     "data": {
      "text/plain": [
       "(2072.711623024829, 2.8284271247461903)"
      ]
     },
     "execution_count": 44,
     "metadata": {},
     "output_type": "execute_result"
    }
   ],
   "source": [
    "np.std(high_var),np.std(low_var)"
   ]
  },
  {
   "cell_type": "code",
   "execution_count": 45,
   "id": "8564b62e",
   "metadata": {},
   "outputs": [
    {
     "data": {
      "image/png": "[encoded data removed]",
      "text/plain": [
       "<Figure size 432x288 with 1 Axes>"
      ]
     },
     "metadata": {
      "needs_background": "light"
     },
     "output_type": "display_data"
    }
   ],
   "source": [
    "%matplotlib inline\n",
    "import matplotlib.pyplot as plt\n",
    "plt.hist(high_var)\n",
    "plt.show()"
   ]
  },
  {
   "cell_type": "code",
   "execution_count": 46,
   "id": "a627ab80",
   "metadata": {},
   "outputs": [
    {
     "data": {
      "image/png": "[encoded data removed]",
      "text/plain": [
       "<Figure size 432x288 with 1 Axes>"
      ]
     },
     "metadata": {
      "needs_background": "light"
     },
     "output_type": "display_data"
    }
   ],
   "source": [
    "plt.hist(low_var)\n",
    "plt.show()"
   ]
  },
  {
   "cell_type": "code",
   "execution_count": 47,
   "id": "18126207",
   "metadata": {},
   "outputs": [
    {
     "data": {
      "text/plain": [
       "array([[[ 1,  2,  3],\n",
       "        [ 4,  5,  6],\n",
       "        [ 7,  8,  9]],\n",
       "\n",
       "       [[10, 11, 12],\n",
       "        [13, 14, 15],\n",
       "        [16, 17, 18]]])"
      ]
     },
     "execution_count": 47,
     "metadata": {},
     "output_type": "execute_result"
    }
   ],
   "source": [
    "a3 = np.array([[[1,2,3],\n",
    "               [4,5,6],\n",
    "               [7,8,9]],\n",
    "              [[10,11,12],\n",
    "               [13,14,15],\n",
    "               [16,17,18]]])\n",
    "a3"
   ]
  },
  {
   "cell_type": "code",
   "execution_count": 48,
   "id": "310c54e1",
   "metadata": {},
   "outputs": [
    {
     "data": {
      "text/plain": [
       "(2, 3, 3)"
      ]
     },
     "execution_count": 48,
     "metadata": {},
     "output_type": "execute_result"
    }
   ],
   "source": [
    "a3.shape"
   ]
  },
  {
   "cell_type": "code",
   "execution_count": 49,
   "id": "4511e149",
   "metadata": {},
   "outputs": [
    {
     "ename": "ValueError",
     "evalue": "operands could not be broadcast together with shapes (2,3) (2,3,3) ",
     "output_type": "error",
     "traceback": [
      "\u001b[1;31m---------------------------------------------------------------------------\u001b[0m",
      "\u001b[1;31mValueError\u001b[0m                                Traceback (most recent call last)",
      "\u001b[1;32m<ipython-input-49-e78a3a07c1a0>\u001b[0m in \u001b[0;36m<module>\u001b[1;34m\u001b[0m\n\u001b[1;32m----> 1\u001b[1;33m \u001b[0ma2\u001b[0m\u001b[1;33m*\u001b[0m\u001b[0ma3\u001b[0m\u001b[1;33m\u001b[0m\u001b[1;33m\u001b[0m\u001b[0m\n\u001b[0m",
      "\u001b[1;31mValueError\u001b[0m: operands could not be broadcast together with shapes (2,3) (2,3,3) "
     ]
    }
   ],
   "source": [
    "a2*a3"
   ]
  },
  {
   "cell_type": "markdown",
   "id": "acf8c1bf",
   "metadata": {},
   "source": [
    "# Reshaping and Transpose"
   ]
  },
  {
   "cell_type": "code",
   "execution_count": 50,
   "id": "eed66a11",
   "metadata": {},
   "outputs": [],
   "source": [
    "a2_reshape = a2.reshape(2,3,1)"
   ]
  },
  {
   "cell_type": "code",
   "execution_count": 51,
   "id": "1b040771",
   "metadata": {},
   "outputs": [
    {
     "data": {
      "text/plain": [
       "array([[[  1. ,   2. ,   3. ],\n",
       "        [  8. ,  10. ,  12. ],\n",
       "        [ 23.1,  26.4,  29.7]],\n",
       "\n",
       "       [[ 40. ,  44. ,  48. ],\n",
       "        [ 65. ,  70. ,  75. ],\n",
       "        [104. , 110.5, 117. ]]])"
      ]
     },
     "execution_count": 51,
     "metadata": {},
     "output_type": "execute_result"
    }
   ],
   "source": [
    "a2_reshape*a3"
   ]
  },
  {
   "cell_type": "code",
   "execution_count": 52,
   "id": "e7ad5300",
   "metadata": {},
   "outputs": [
    {
     "data": {
      "text/plain": [
       "array([[1. , 4. ],\n",
       "       [2. , 5. ],\n",
       "       [3.3, 6.5]])"
      ]
     },
     "execution_count": 52,
     "metadata": {},
     "output_type": "execute_result"
    }
   ],
   "source": [
    "#transpose\n",
    "a2.T"
   ]
  },
  {
   "cell_type": "code",
   "execution_count": 53,
   "id": "c8136b7f",
   "metadata": {},
   "outputs": [
    {
     "data": {
      "text/plain": [
       "array([[[ 1, 10],\n",
       "        [ 4, 13],\n",
       "        [ 7, 16]],\n",
       "\n",
       "       [[ 2, 11],\n",
       "        [ 5, 14],\n",
       "        [ 8, 17]],\n",
       "\n",
       "       [[ 3, 12],\n",
       "        [ 6, 15],\n",
       "        [ 9, 18]]])"
      ]
     },
     "execution_count": 53,
     "metadata": {},
     "output_type": "execute_result"
    }
   ],
   "source": [
    "a3.T"
   ]
  },
  {
   "cell_type": "code",
   "execution_count": null,
   "id": "0c68c823",
   "metadata": {},
   "outputs": [],
   "source": [
    "a3.T.shape, a2.T.shape"
   ]
  },
  {
   "cell_type": "markdown",
   "id": "92a6013e",
   "metadata": {},
   "source": [
    "# 4.Dot Product"
   ]
  },
  {
   "cell_type": "code",
   "execution_count": 54,
   "id": "ca357ab2",
   "metadata": {},
   "outputs": [],
   "source": [
    "np.random.seed(2)\n",
    "mat1 = np.random.randint(10 , size = (5,3))\n",
    "mat2 = np.random.randint(10 , size = (5,3))"
   ]
  },
  {
   "cell_type": "code",
   "execution_count": 55,
   "id": "b7125adb",
   "metadata": {},
   "outputs": [
    {
     "data": {
      "text/plain": [
       "(array([[8, 8, 6],\n",
       "        [2, 8, 7],\n",
       "        [2, 1, 5],\n",
       "        [4, 4, 5],\n",
       "        [7, 3, 6]]),\n",
       " array([[4, 3, 7],\n",
       "        [6, 1, 3],\n",
       "        [5, 8, 4],\n",
       "        [6, 3, 9],\n",
       "        [2, 0, 4]]))"
      ]
     },
     "execution_count": 55,
     "metadata": {},
     "output_type": "execute_result"
    }
   ],
   "source": [
    "mat1, mat2"
   ]
  },
  {
   "cell_type": "markdown",
   "id": "24f703b9",
   "metadata": {},
   "source": [
    "## # This is element wise multiplication - not actual multiplication of matrices"
   ]
  },
  {
   "cell_type": "code",
   "execution_count": 57,
   "id": "6212c2f1",
   "metadata": {},
   "outputs": [
    {
     "data": {
      "text/plain": [
       "array([[32, 24, 42],\n",
       "       [12,  8, 21],\n",
       "       [10,  8, 20],\n",
       "       [24, 12, 45],\n",
       "       [14,  0, 24]])"
      ]
     },
     "execution_count": 57,
     "metadata": {},
     "output_type": "execute_result"
    }
   ],
   "source": [
    "mat1*mat2\n"
   ]
  },
  {
   "cell_type": "markdown",
   "id": "72829a12",
   "metadata": {},
   "source": [
    "np.dot(mat1,mat2) # to resolve the error recall the rules of matrix multiplication\n",
    "#no of rows of first matrix == no of cols of second and "
   ]
  },
  {
   "cell_type": "code",
   "execution_count": 60,
   "id": "77350cda",
   "metadata": {},
   "outputs": [
    {
     "data": {
      "text/plain": [
       "array([[ 98,  74, 128, 126,  40],\n",
       "       [ 81,  41, 102,  99,  32],\n",
       "       [ 46,  28,  38,  60,  24],\n",
       "       [ 63,  43,  72,  81,  28],\n",
       "       [ 79,  63,  83, 105,  38]])"
      ]
     },
     "execution_count": 60,
     "metadata": {},
     "output_type": "execute_result"
    }
   ],
   "source": [
    "np.dot(mat1,mat2.T) # we took the traspose of mat2 so that above condition is true 5 rows of mat1 = 5 cols of mat 2"
   ]
  },
  {
   "cell_type": "code",
   "execution_count": 61,
   "id": "bb839a47",
   "metadata": {},
   "outputs": [
    {
     "data": {
      "text/plain": [
       "(5, 5)"
      ]
     },
     "execution_count": 61,
     "metadata": {},
     "output_type": "execute_result"
    }
   ],
   "source": [
    "np.dot(mat1,mat2.T).shape"
   ]
  },
  {
   "cell_type": "markdown",
   "id": "dc6e29ea",
   "metadata": {},
   "source": [
    "### Example of Dot product"
   ]
  },
  {
   "cell_type": "code",
   "execution_count": 69,
   "id": "89143b1e",
   "metadata": {},
   "outputs": [],
   "source": [
    "import pandas as pd"
   ]
  },
  {
   "cell_type": "code",
   "execution_count": 113,
   "id": "53d10393",
   "metadata": {},
   "outputs": [],
   "source": [
    "indexes = pd.Series([\"Mon\",\"Tue\",\"Wed\",\"Thurs\",\"Fri\"])\n",
    "headings  = pd.Series(['Almond Butter', 'Peanut Butter', 'Cashew Butter'])\n",
    "values = np.array([[2,7,1],\n",
    "                  [9,4,16],\n",
    "                  [11,14,18],\n",
    "                  [13,13,16],\n",
    "                  [15,18,9]])"
   ]
  },
  {
   "cell_type": "code",
   "execution_count": 114,
   "id": "ba910a98",
   "metadata": {},
   "outputs": [],
   "source": [
    "value_columns  = values.T"
   ]
  },
  {
   "cell_type": "code",
   "execution_count": 115,
   "id": "20282077",
   "metadata": {},
   "outputs": [
    {
     "data": {
      "text/html": [
       "<div>\n",
       "<style scoped>\n",
       "    .dataframe tbody tr th:only-of-type {\n",
       "        vertical-align: middle;\n",
       "    }\n",
       "\n",
       "    .dataframe tbody tr th {\n",
       "        vertical-align: top;\n",
       "    }\n",
       "\n",
       "    .dataframe thead th {\n",
       "        text-align: right;\n",
       "    }\n",
       "</style>\n",
       "<table border=\"1\" class=\"dataframe\">\n",
       "  <thead>\n",
       "    <tr style=\"text-align: right;\">\n",
       "      <th></th>\n",
       "      <th>Almond Butter</th>\n",
       "      <th>Peanut Butter</th>\n",
       "      <th>Cashew Butter</th>\n",
       "    </tr>\n",
       "  </thead>\n",
       "  <tbody>\n",
       "    <tr>\n",
       "      <th>Mon</th>\n",
       "      <td>2</td>\n",
       "      <td>7</td>\n",
       "      <td>1</td>\n",
       "    </tr>\n",
       "    <tr>\n",
       "      <th>Tue</th>\n",
       "      <td>9</td>\n",
       "      <td>4</td>\n",
       "      <td>16</td>\n",
       "    </tr>\n",
       "    <tr>\n",
       "      <th>Wed</th>\n",
       "      <td>11</td>\n",
       "      <td>14</td>\n",
       "      <td>18</td>\n",
       "    </tr>\n",
       "    <tr>\n",
       "      <th>Thurs</th>\n",
       "      <td>13</td>\n",
       "      <td>13</td>\n",
       "      <td>16</td>\n",
       "    </tr>\n",
       "    <tr>\n",
       "      <th>Fri</th>\n",
       "      <td>15</td>\n",
       "      <td>18</td>\n",
       "      <td>9</td>\n",
       "    </tr>\n",
       "  </tbody>\n",
       "</table>\n",
       "</div>"
      ],
      "text/plain": [
       "       Almond Butter  Peanut Butter  Cashew Butter\n",
       "Mon                2              7              1\n",
       "Tue                9              4             16\n",
       "Wed               11             14             18\n",
       "Thurs             13             13             16\n",
       "Fri               15             18              9"
      ]
     },
     "execution_count": 115,
     "metadata": {},
     "output_type": "execute_result"
    }
   ],
   "source": [
    "dataframe = pd.DataFrame(values,\n",
    "                        index=indexes,\n",
    "                        columns = headings)\n",
    "dataframe"
   ]
  },
  {
   "cell_type": "markdown",
   "id": "6b964447",
   "metadata": {},
   "source": [
    "This is dataframe1"
   ]
  },
  {
   "cell_type": "code",
   "execution_count": 116,
   "id": "9948b0cb",
   "metadata": {},
   "outputs": [
    {
     "data": {
      "text/plain": [
       "(3,)"
      ]
     },
     "execution_count": 116,
     "metadata": {},
     "output_type": "execute_result"
    }
   ],
   "source": [
    "price = np.array([10,8,12])\n",
    "price.shape"
   ]
  },
  {
   "cell_type": "code",
   "execution_count": 117,
   "id": "3020e387",
   "metadata": {},
   "outputs": [
    {
     "data": {
      "text/html": [
       "<div>\n",
       "<style scoped>\n",
       "    .dataframe tbody tr th:only-of-type {\n",
       "        vertical-align: middle;\n",
       "    }\n",
       "\n",
       "    .dataframe tbody tr th {\n",
       "        vertical-align: top;\n",
       "    }\n",
       "\n",
       "    .dataframe thead tr th {\n",
       "        text-align: left;\n",
       "    }\n",
       "</style>\n",
       "<table border=\"1\" class=\"dataframe\">\n",
       "  <thead>\n",
       "    <tr>\n",
       "      <th></th>\n",
       "      <th>Almond Butter</th>\n",
       "      <th>Peanut Butter</th>\n",
       "      <th>Cashew Butter</th>\n",
       "    </tr>\n",
       "  </thead>\n",
       "  <tbody>\n",
       "    <tr>\n",
       "      <th>Price</th>\n",
       "      <td>10</td>\n",
       "      <td>8</td>\n",
       "      <td>12</td>\n",
       "    </tr>\n",
       "  </tbody>\n",
       "</table>\n",
       "</div>"
      ],
      "text/plain": [
       "      Almond Butter Peanut Butter Cashew Butter\n",
       "Price            10             8            12"
      ]
     },
     "execution_count": 117,
     "metadata": {},
     "output_type": "execute_result"
    }
   ],
   "source": [
    "\n",
    "priceFrame = pd.DataFrame(price.reshape(1,3),\n",
    "                         index = ['Price'],\n",
    "                         columns = [headings])\n",
    "priceFrame"
   ]
  },
  {
   "cell_type": "markdown",
   "id": "d25a72e7",
   "metadata": {},
   "source": [
    "This is the second data frame and, Basically we have the price of individual product and we need to calculate the total sale ($) on each day.\n",
    "We will take one value from dataframe1 column multiply with correspoding value in this dataframe2, similarly add all three vaues."
   ]
  },
  {
   "cell_type": "code",
   "execution_count": 118,
   "id": "3b70e6bd",
   "metadata": {},
   "outputs": [
    {
     "data": {
      "text/plain": [
       "array([ 88, 314, 438, 426, 402])"
      ]
     },
     "execution_count": 118,
     "metadata": {},
     "output_type": "execute_result"
    }
   ],
   "source": [
    "calc_price =np.dot(price,values.T) \n",
    "calc_price"
   ]
  },
  {
   "cell_type": "code",
   "execution_count": 119,
   "id": "5e8b3cd6",
   "metadata": {},
   "outputs": [
    {
     "data": {
      "text/html": [
       "<div>\n",
       "<style scoped>\n",
       "    .dataframe tbody tr th:only-of-type {\n",
       "        vertical-align: middle;\n",
       "    }\n",
       "\n",
       "    .dataframe tbody tr th {\n",
       "        vertical-align: top;\n",
       "    }\n",
       "\n",
       "    .dataframe thead th {\n",
       "        text-align: right;\n",
       "    }\n",
       "</style>\n",
       "<table border=\"1\" class=\"dataframe\">\n",
       "  <thead>\n",
       "    <tr style=\"text-align: right;\">\n",
       "      <th></th>\n",
       "      <th>Almond Butter</th>\n",
       "      <th>Peanut Butter</th>\n",
       "      <th>Cashew Butter</th>\n",
       "    </tr>\n",
       "  </thead>\n",
       "  <tbody>\n",
       "    <tr>\n",
       "      <th>Mon</th>\n",
       "      <td>2</td>\n",
       "      <td>7</td>\n",
       "      <td>1</td>\n",
       "    </tr>\n",
       "    <tr>\n",
       "      <th>Tue</th>\n",
       "      <td>9</td>\n",
       "      <td>4</td>\n",
       "      <td>16</td>\n",
       "    </tr>\n",
       "    <tr>\n",
       "      <th>Wed</th>\n",
       "      <td>11</td>\n",
       "      <td>14</td>\n",
       "      <td>18</td>\n",
       "    </tr>\n",
       "    <tr>\n",
       "      <th>Thurs</th>\n",
       "      <td>13</td>\n",
       "      <td>13</td>\n",
       "      <td>16</td>\n",
       "    </tr>\n",
       "    <tr>\n",
       "      <th>Fri</th>\n",
       "      <td>15</td>\n",
       "      <td>18</td>\n",
       "      <td>9</td>\n",
       "    </tr>\n",
       "  </tbody>\n",
       "</table>\n",
       "</div>"
      ],
      "text/plain": [
       "       Almond Butter  Peanut Butter  Cashew Butter\n",
       "Mon                2              7              1\n",
       "Tue                9              4             16\n",
       "Wed               11             14             18\n",
       "Thurs             13             13             16\n",
       "Fri               15             18              9"
      ]
     },
     "execution_count": 119,
     "metadata": {},
     "output_type": "execute_result"
    }
   ],
   "source": [
    "dataframe "
   ]
  },
  {
   "cell_type": "code",
   "execution_count": 120,
   "id": "4660a500",
   "metadata": {},
   "outputs": [],
   "source": [
    "dataframe['Sles $']  = calc_price.T"
   ]
  },
  {
   "cell_type": "code",
   "execution_count": 121,
   "id": "ed057895",
   "metadata": {},
   "outputs": [
    {
     "data": {
      "text/html": [
       "<div>\n",
       "<style scoped>\n",
       "    .dataframe tbody tr th:only-of-type {\n",
       "        vertical-align: middle;\n",
       "    }\n",
       "\n",
       "    .dataframe tbody tr th {\n",
       "        vertical-align: top;\n",
       "    }\n",
       "\n",
       "    .dataframe thead th {\n",
       "        text-align: right;\n",
       "    }\n",
       "</style>\n",
       "<table border=\"1\" class=\"dataframe\">\n",
       "  <thead>\n",
       "    <tr style=\"text-align: right;\">\n",
       "      <th></th>\n",
       "      <th>Almond Butter</th>\n",
       "      <th>Peanut Butter</th>\n",
       "      <th>Cashew Butter</th>\n",
       "      <th>Sles $</th>\n",
       "    </tr>\n",
       "  </thead>\n",
       "  <tbody>\n",
       "    <tr>\n",
       "      <th>Mon</th>\n",
       "      <td>2</td>\n",
       "      <td>7</td>\n",
       "      <td>1</td>\n",
       "      <td>88</td>\n",
       "    </tr>\n",
       "    <tr>\n",
       "      <th>Tue</th>\n",
       "      <td>9</td>\n",
       "      <td>4</td>\n",
       "      <td>16</td>\n",
       "      <td>314</td>\n",
       "    </tr>\n",
       "    <tr>\n",
       "      <th>Wed</th>\n",
       "      <td>11</td>\n",
       "      <td>14</td>\n",
       "      <td>18</td>\n",
       "      <td>438</td>\n",
       "    </tr>\n",
       "    <tr>\n",
       "      <th>Thurs</th>\n",
       "      <td>13</td>\n",
       "      <td>13</td>\n",
       "      <td>16</td>\n",
       "      <td>426</td>\n",
       "    </tr>\n",
       "    <tr>\n",
       "      <th>Fri</th>\n",
       "      <td>15</td>\n",
       "      <td>18</td>\n",
       "      <td>9</td>\n",
       "      <td>402</td>\n",
       "    </tr>\n",
       "  </tbody>\n",
       "</table>\n",
       "</div>"
      ],
      "text/plain": [
       "       Almond Butter  Peanut Butter  Cashew Butter  Sles $\n",
       "Mon                2              7              1      88\n",
       "Tue                9              4             16     314\n",
       "Wed               11             14             18     438\n",
       "Thurs             13             13             16     426\n",
       "Fri               15             18              9     402"
      ]
     },
     "execution_count": 121,
     "metadata": {},
     "output_type": "execute_result"
    }
   ],
   "source": [
    "dataframe"
   ]
  },
  {
   "cell_type": "markdown",
   "id": "640f2d3f",
   "metadata": {},
   "source": [
    "### Comparison Operators"
   ]
  },
  {
   "cell_type": "code",
   "execution_count": 125,
   "id": "7eddcf9d",
   "metadata": {},
   "outputs": [],
   "source": [
    "a1 = np.array([2, 4, 5])"
   ]
  },
  {
   "cell_type": "code",
   "execution_count": 123,
   "id": "bbec8108",
   "metadata": {},
   "outputs": [
    {
     "data": {
      "text/plain": [
       "array([[1. , 2. , 3.3],\n",
       "       [4. , 5. , 6.5]])"
      ]
     },
     "execution_count": 123,
     "metadata": {},
     "output_type": "execute_result"
    }
   ],
   "source": [
    "a2"
   ]
  },
  {
   "cell_type": "code",
   "execution_count": 128,
   "id": "50a902f9",
   "metadata": {},
   "outputs": [
    {
     "data": {
      "text/plain": [
       "array([[ True,  True,  True],\n",
       "       [False, False, False]])"
      ]
     },
     "execution_count": 128,
     "metadata": {},
     "output_type": "execute_result"
    }
   ],
   "source": [
    "bool_array = np.array(a1>a2)\n",
    "bool_array"
   ]
  },
  {
   "cell_type": "code",
   "execution_count": 129,
   "id": "37e9fe25",
   "metadata": {},
   "outputs": [
    {
     "data": {
      "text/plain": [
       "array([[False, False, False],\n",
       "       [False, False, False]])"
      ]
     },
     "execution_count": 129,
     "metadata": {},
     "output_type": "execute_result"
    }
   ],
   "source": [
    "a1 == a2"
   ]
  },
  {
   "cell_type": "code",
   "execution_count": 130,
   "id": "9af883f8",
   "metadata": {},
   "outputs": [
    {
     "data": {
      "text/plain": [
       "array([[False, False,  True],\n",
       "       [ True,  True,  True]])"
      ]
     },
     "execution_count": 130,
     "metadata": {},
     "output_type": "execute_result"
    }
   ],
   "source": [
    "a2>3"
   ]
  },
  {
   "cell_type": "markdown",
   "id": "3d0fd1ed",
   "metadata": {},
   "source": [
    "# 5. Sorting Arrays"
   ]
  },
  {
   "cell_type": "code",
   "execution_count": 135,
   "id": "3f4b0330",
   "metadata": {},
   "outputs": [
    {
     "data": {
      "text/plain": [
       "array([[7, 5, 1, 8],\n",
       "       [7, 8, 2, 9],\n",
       "       [7, 7, 7, 9],\n",
       "       [8, 4, 2, 6],\n",
       "       [4, 3, 0, 7]])"
      ]
     },
     "execution_count": 135,
     "metadata": {},
     "output_type": "execute_result"
    }
   ],
   "source": [
    "np.random.seed(4)\n",
    "random_array = np.random.randint(10, size =(5,4))\n",
    "random_array"
   ]
  },
  {
   "cell_type": "code",
   "execution_count": 136,
   "id": "7ced543f",
   "metadata": {},
   "outputs": [
    {
     "data": {
      "text/plain": [
       "array([[1, 5, 7, 8],\n",
       "       [2, 7, 8, 9],\n",
       "       [7, 7, 7, 9],\n",
       "       [2, 4, 6, 8],\n",
       "       [0, 3, 4, 7]])"
      ]
     },
     "execution_count": 136,
     "metadata": {},
     "output_type": "execute_result"
    }
   ],
   "source": [
    "np.sort(random_array)"
   ]
  },
  {
   "cell_type": "code",
   "execution_count": 137,
   "id": "cf5344af",
   "metadata": {},
   "outputs": [
    {
     "data": {
      "text/plain": [
       "array([[2, 1, 0, 3],\n",
       "       [2, 0, 1, 3],\n",
       "       [0, 1, 2, 3],\n",
       "       [2, 1, 3, 0],\n",
       "       [2, 1, 0, 3]], dtype=int64)"
      ]
     },
     "execution_count": 137,
     "metadata": {},
     "output_type": "execute_result"
    }
   ],
   "source": [
    "np.argsort(random_array)"
   ]
  },
  {
   "cell_type": "markdown",
   "id": "9f9ee195",
   "metadata": {},
   "source": [
    "argsort() tells the the index of element in sorted array"
   ]
  },
  {
   "cell_type": "code",
   "execution_count": 138,
   "id": "4d7799be",
   "metadata": {},
   "outputs": [
    {
     "data": {
      "text/plain": [
       "18"
      ]
     },
     "execution_count": 138,
     "metadata": {},
     "output_type": "execute_result"
    }
   ],
   "source": [
    "np.argmin(random_array)"
   ]
  },
  {
   "cell_type": "code",
   "execution_count": 139,
   "id": "e520f91f",
   "metadata": {},
   "outputs": [
    {
     "data": {
      "text/plain": [
       "array([2, 4, 5])"
      ]
     },
     "execution_count": 139,
     "metadata": {},
     "output_type": "execute_result"
    }
   ],
   "source": [
    "a1"
   ]
  },
  {
   "cell_type": "code",
   "execution_count": 140,
   "id": "b7899f94",
   "metadata": {},
   "outputs": [
    {
     "data": {
      "text/plain": [
       "0"
      ]
     },
     "execution_count": 140,
     "metadata": {},
     "output_type": "execute_result"
    }
   ],
   "source": [
    "np.argmin(a1)"
   ]
  },
  {
   "cell_type": "markdown",
   "id": "71888854",
   "metadata": {},
   "source": [
    "argmin() returns the index of min in the array and argmax() return max value index"
   ]
  },
  {
   "cell_type": "code",
   "execution_count": 141,
   "id": "9eda99f0",
   "metadata": {},
   "outputs": [
    {
     "data": {
      "text/plain": [
       "7"
      ]
     },
     "execution_count": 141,
     "metadata": {},
     "output_type": "execute_result"
    }
   ],
   "source": [
    "np.argmax(random_array)"
   ]
  },
  {
   "cell_type": "markdown",
   "id": "8a22bd20",
   "metadata": {},
   "source": [
    "# 6. Images to NumPy Arrays"
   ]
  },
  {
   "cell_type": "markdown",
   "id": "c5ec5cfe",
   "metadata": {},
   "source": [
    "<img src = \"images/panda.png\"/>"
   ]
  },
  {
   "cell_type": "code",
   "execution_count": 144,
   "id": "66a9b083",
   "metadata": {},
   "outputs": [],
   "source": [
    "from matplotlib.image import imread\n",
    "panda = imread('images\\panda.png')"
   ]
  },
  {
   "cell_type": "code",
   "execution_count": 148,
   "id": "dd08c43f",
   "metadata": {},
   "outputs": [
    {
     "data": {
      "text/plain": [
       "(dtype('float32'), numpy.ndarray)"
      ]
     },
     "execution_count": 148,
     "metadata": {},
     "output_type": "execute_result"
    }
   ],
   "source": [
    "panda.dtype,type(panda)"
   ]
  },
  {
   "cell_type": "code",
   "execution_count": 149,
   "id": "e2e7c5c5",
   "metadata": {},
   "outputs": [
    {
     "data": {
      "text/plain": [
       "(24465000, (2330, 3500, 3))"
      ]
     },
     "execution_count": 149,
     "metadata": {},
     "output_type": "execute_result"
    }
   ],
   "source": [
    "panda.size, panda.shape"
   ]
  },
  {
   "cell_type": "code",
   "execution_count": 3,
   "id": "7bf9b81a",
   "metadata": {},
   "outputs": [
    {
     "data": {
      "text/plain": [
       "8155000"
      ]
     },
     "execution_count": 3,
     "metadata": {},
     "output_type": "execute_result"
    }
   ],
   "source": [
    "2330*3500"
   ]
  },
  {
   "cell_type": "code",
   "execution_count": null,
   "id": "6a5df3d0",
   "metadata": {},
   "outputs": [],
   "source": []
  }
 ],
 "metadata": {
  "kernelspec": {
   "display_name": "Python 3 (ipykernel)",
   "language": "python",
   "name": "python3"
  },
  "language_info": {
   "codemirror_mode": {
    "name": "ipython",
    "version": 3
   },
   "file_extension": ".py",
   "mimetype": "text/x-python",
   "name": "python",
   "nbconvert_exporter": "python",
   "pygments_lexer": "ipython3",
   "version": "3.9.12"
  }
 },
 "nbformat": 4,
 "nbformat_minor": 5
}
